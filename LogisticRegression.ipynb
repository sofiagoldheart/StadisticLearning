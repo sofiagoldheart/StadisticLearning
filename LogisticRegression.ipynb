{
  "nbformat": 4,
  "nbformat_minor": 0,
  "metadata": {
    "colab": {
      "provenance": [],
      "include_colab_link": true
    },
    "kernelspec": {
      "name": "python3",
      "display_name": "Python 3"
    },
    "language_info": {
      "name": "python"
    }
  },
  "cells": [
    {
      "cell_type": "markdown",
      "metadata": {
        "id": "view-in-github",
        "colab_type": "text"
      },
      "source": [
        "<a href=\"https://colab.research.google.com/github/sofiagoldheart/StadisticLearning/blob/main/LogisticRegression.ipynb\" target=\"_parent\"><img src=\"https://colab.research.google.com/assets/colab-badge.svg\" alt=\"Open In Colab\"/></a>"
      ]
    },
    {
      "cell_type": "markdown",
      "source": [
        "# Clasificación con Regresión Logística"
      ],
      "metadata": {
        "id": "otNf0u8sevX_"
      }
    },
    {
      "cell_type": "markdown",
      "source": [
        "## Paso 1: Importar librerías"
      ],
      "metadata": {
        "id": "PVzREdK4ekQ7"
      }
    },
    {
      "cell_type": "code",
      "execution_count": null,
      "metadata": {
        "id": "AAJTRBHNejn7"
      },
      "outputs": [],
      "source": [
        "import matplotlib.pyplot as plt\n",
        "import numpy as np\n",
        "from sklearn.datasets import load_digits\n",
        "from sklearn.linear_model import LogisticRegression\n",
        "from sklearn.metrics import classification_report, confusion_matrix\n",
        "from sklearn.model_selection import train_test_split\n",
        "from sklearn.preprocessing import StandardScaler"
      ]
    },
    {
      "cell_type": "markdown",
      "source": [
        "## Paso 2A: Obtener datos"
      ],
      "metadata": {
        "id": "PwWMXkxJf0WN"
      }
    },
    {
      "cell_type": "code",
      "source": [
        "x, y = load_digits(return_X_y=True)"
      ],
      "metadata": {
        "id": "nVHRzqZlf3iG"
      },
      "execution_count": null,
      "outputs": []
    },
    {
      "cell_type": "code",
      "source": [
        "print(x)"
      ],
      "metadata": {
        "colab": {
          "base_uri": "https://localhost:8080/"
        },
        "id": "3PPv3I4sg11q",
        "outputId": "4a7e2f13-0efe-470d-aaeb-c90de8eb1b3d"
      },
      "execution_count": null,
      "outputs": [
        {
          "output_type": "stream",
          "name": "stdout",
          "text": [
            "[[ 0.  0.  5. ...  0.  0.  0.]\n",
            " [ 0.  0.  0. ... 10.  0.  0.]\n",
            " [ 0.  0.  0. ... 16.  9.  0.]\n",
            " ...\n",
            " [ 0.  0.  1. ...  6.  0.  0.]\n",
            " [ 0.  0.  2. ... 12.  0.  0.]\n",
            " [ 0.  0. 10. ... 12.  1.  0.]]\n"
          ]
        }
      ]
    },
    {
      "cell_type": "code",
      "source": [
        "print(y)"
      ],
      "metadata": {
        "colab": {
          "base_uri": "https://localhost:8080/"
        },
        "id": "OHBp0R6JhV2G",
        "outputId": "497e8a9f-081a-43ee-df9b-cb01c63726a4"
      },
      "execution_count": null,
      "outputs": [
        {
          "output_type": "stream",
          "name": "stdout",
          "text": [
            "[0 1 2 ... 8 9 8]\n"
          ]
        }
      ]
    },
    {
      "cell_type": "markdown",
      "source": [
        "## Paso 2B: Dividir los datos"
      ],
      "metadata": {
        "id": "XrnzKRrJhnjs"
      }
    },
    {
      "cell_type": "code",
      "source": [
        "x_train, x_test, y_train, y_test =\\\n",
        "  train_test_split(x, y, test_size=0.2, random_state=0)"
      ],
      "metadata": {
        "id": "es3b1u5ahriw"
      },
      "execution_count": null,
      "outputs": []
    },
    {
      "cell_type": "code",
      "source": [
        "print(len(y))\n",
        "print(len(y_train))\n",
        "print(len(y_test))"
      ],
      "metadata": {
        "colab": {
          "base_uri": "https://localhost:8080/"
        },
        "id": "RHLx0dtKiEm2",
        "outputId": "72a11ca1-92f8-4b46-c705-af4a41793897"
      },
      "execution_count": null,
      "outputs": [
        {
          "output_type": "stream",
          "name": "stdout",
          "text": [
            "1797\n",
            "1437\n",
            "360\n"
          ]
        }
      ]
    },
    {
      "cell_type": "markdown",
      "source": [
        "## Paso 2C: Escalar los Datos"
      ],
      "metadata": {
        "id": "PQa2X873jJHO"
      }
    },
    {
      "cell_type": "code",
      "source": [
        "scaler = StandardScaler()\n",
        "x_train = scaler.fit_transform(x_train)"
      ],
      "metadata": {
        "id": "Xy0CDX2OjN7U"
      },
      "execution_count": null,
      "outputs": []
    },
    {
      "cell_type": "code",
      "source": [
        "print(x[0])\n",
        "print()\n",
        "print(x_train[0])"
      ],
      "metadata": {
        "colab": {
          "base_uri": "https://localhost:8080/"
        },
        "id": "aQWEJLaEkC9j",
        "outputId": "c30d65b1-0bea-44de-e5a5-de60612fb02d"
      },
      "execution_count": null,
      "outputs": [
        {
          "output_type": "stream",
          "name": "stdout",
          "text": [
            "[ 0.  0.  5. 13.  9.  1.  0.  0.  0.  0. 13. 15. 10. 15.  5.  0.  0.  3.\n",
            " 15.  2.  0. 11.  8.  0.  0.  4. 12.  0.  0.  8.  8.  0.  0.  5.  8.  0.\n",
            "  0.  9.  8.  0.  0.  4. 11.  0.  1. 12.  7.  0.  0.  2. 14.  5. 10. 12.\n",
            "  0.  0.  0.  0.  6. 13. 10.  0.  0.  0.]\n",
            "\n",
            "[ 0.         -0.33790435 -1.09141592 -0.64913206  0.73480922 -0.6782652\n",
            " -0.40764783 -0.12238102 -0.05576317 -0.62606288 -0.99058772  0.99749054\n",
            "  0.13213489 -1.19579353 -0.51556231 -0.12605859 -0.03733267 -0.72296123\n",
            "  0.55610538  1.38118964 -0.98465664 -1.26284019 -0.55465252 -0.11565628\n",
            " -0.02638899 -0.15208278  1.10759523  0.37163491 -1.60830723 -1.28974179\n",
            " -0.63555933 -0.04573894  0.         -0.10276083  1.32734049  0.31000002\n",
            " -1.05452978 -0.80512633 -0.83498919  0.         -0.05806465  0.13008703\n",
            "  1.23225418  1.35913603  1.32341669  1.01539823  1.51779287  3.19368333\n",
            " -0.03963009 -0.40398151  0.25100815  1.22276113 -0.47996928 -0.96182318\n",
            "  2.3466476   6.15487177 -0.02638899 -0.30140625 -1.0865776  -1.14418634\n",
            "  0.65337948  1.58325794  3.53125595  3.30213343]\n"
          ]
        }
      ]
    },
    {
      "cell_type": "markdown",
      "source": [
        "## Paso 3: Crear un modelo y entrenarlo"
      ],
      "metadata": {
        "id": "wK3I_j4hkuzj"
      }
    },
    {
      "cell_type": "code",
      "source": [
        "model = LogisticRegression(solver='liblinear',\n",
        "                           C=0.05, multi_class='ovr',\n",
        "                           random_state=0)\n",
        "model.fit(x_train, y_train)"
      ],
      "metadata": {
        "colab": {
          "base_uri": "https://localhost:8080/",
          "height": 92
        },
        "id": "sWHUe518kxfN",
        "outputId": "f92ef273-e54e-4583-c3ec-22fb771566a8"
      },
      "execution_count": null,
      "outputs": [
        {
          "output_type": "execute_result",
          "data": {
            "text/plain": [
              "LogisticRegression(C=0.05, multi_class='ovr', random_state=0,\n",
              "                   solver='liblinear')"
            ],
            "text/html": [
              "<style>#sk-container-id-12 {color: black;background-color: white;}#sk-container-id-12 pre{padding: 0;}#sk-container-id-12 div.sk-toggleable {background-color: white;}#sk-container-id-12 label.sk-toggleable__label {cursor: pointer;display: block;width: 100%;margin-bottom: 0;padding: 0.3em;box-sizing: border-box;text-align: center;}#sk-container-id-12 label.sk-toggleable__label-arrow:before {content: \"▸\";float: left;margin-right: 0.25em;color: #696969;}#sk-container-id-12 label.sk-toggleable__label-arrow:hover:before {color: black;}#sk-container-id-12 div.sk-estimator:hover label.sk-toggleable__label-arrow:before {color: black;}#sk-container-id-12 div.sk-toggleable__content {max-height: 0;max-width: 0;overflow: hidden;text-align: left;background-color: #f0f8ff;}#sk-container-id-12 div.sk-toggleable__content pre {margin: 0.2em;color: black;border-radius: 0.25em;background-color: #f0f8ff;}#sk-container-id-12 input.sk-toggleable__control:checked~div.sk-toggleable__content {max-height: 200px;max-width: 100%;overflow: auto;}#sk-container-id-12 input.sk-toggleable__control:checked~label.sk-toggleable__label-arrow:before {content: \"▾\";}#sk-container-id-12 div.sk-estimator input.sk-toggleable__control:checked~label.sk-toggleable__label {background-color: #d4ebff;}#sk-container-id-12 div.sk-label input.sk-toggleable__control:checked~label.sk-toggleable__label {background-color: #d4ebff;}#sk-container-id-12 input.sk-hidden--visually {border: 0;clip: rect(1px 1px 1px 1px);clip: rect(1px, 1px, 1px, 1px);height: 1px;margin: -1px;overflow: hidden;padding: 0;position: absolute;width: 1px;}#sk-container-id-12 div.sk-estimator {font-family: monospace;background-color: #f0f8ff;border: 1px dotted black;border-radius: 0.25em;box-sizing: border-box;margin-bottom: 0.5em;}#sk-container-id-12 div.sk-estimator:hover {background-color: #d4ebff;}#sk-container-id-12 div.sk-parallel-item::after {content: \"\";width: 100%;border-bottom: 1px solid gray;flex-grow: 1;}#sk-container-id-12 div.sk-label:hover label.sk-toggleable__label {background-color: #d4ebff;}#sk-container-id-12 div.sk-serial::before {content: \"\";position: absolute;border-left: 1px solid gray;box-sizing: border-box;top: 0;bottom: 0;left: 50%;z-index: 0;}#sk-container-id-12 div.sk-serial {display: flex;flex-direction: column;align-items: center;background-color: white;padding-right: 0.2em;padding-left: 0.2em;position: relative;}#sk-container-id-12 div.sk-item {position: relative;z-index: 1;}#sk-container-id-12 div.sk-parallel {display: flex;align-items: stretch;justify-content: center;background-color: white;position: relative;}#sk-container-id-12 div.sk-item::before, #sk-container-id-12 div.sk-parallel-item::before {content: \"\";position: absolute;border-left: 1px solid gray;box-sizing: border-box;top: 0;bottom: 0;left: 50%;z-index: -1;}#sk-container-id-12 div.sk-parallel-item {display: flex;flex-direction: column;z-index: 1;position: relative;background-color: white;}#sk-container-id-12 div.sk-parallel-item:first-child::after {align-self: flex-end;width: 50%;}#sk-container-id-12 div.sk-parallel-item:last-child::after {align-self: flex-start;width: 50%;}#sk-container-id-12 div.sk-parallel-item:only-child::after {width: 0;}#sk-container-id-12 div.sk-dashed-wrapped {border: 1px dashed gray;margin: 0 0.4em 0.5em 0.4em;box-sizing: border-box;padding-bottom: 0.4em;background-color: white;}#sk-container-id-12 div.sk-label label {font-family: monospace;font-weight: bold;display: inline-block;line-height: 1.2em;}#sk-container-id-12 div.sk-label-container {text-align: center;}#sk-container-id-12 div.sk-container {/* jupyter's `normalize.less` sets `[hidden] { display: none; }` but bootstrap.min.css set `[hidden] { display: none !important; }` so we also need the `!important` here to be able to override the default hidden behavior on the sphinx rendered scikit-learn.org. See: https://github.com/scikit-learn/scikit-learn/issues/21755 */display: inline-block !important;position: relative;}#sk-container-id-12 div.sk-text-repr-fallback {display: none;}</style><div id=\"sk-container-id-12\" class=\"sk-top-container\"><div class=\"sk-text-repr-fallback\"><pre>LogisticRegression(C=0.05, multi_class=&#x27;ovr&#x27;, random_state=0,\n",
              "                   solver=&#x27;liblinear&#x27;)</pre><b>In a Jupyter environment, please rerun this cell to show the HTML representation or trust the notebook. <br />On GitHub, the HTML representation is unable to render, please try loading this page with nbviewer.org.</b></div><div class=\"sk-container\" hidden><div class=\"sk-item\"><div class=\"sk-estimator sk-toggleable\"><input class=\"sk-toggleable__control sk-hidden--visually\" id=\"sk-estimator-id-12\" type=\"checkbox\" checked><label for=\"sk-estimator-id-12\" class=\"sk-toggleable__label sk-toggleable__label-arrow\">LogisticRegression</label><div class=\"sk-toggleable__content\"><pre>LogisticRegression(C=0.05, multi_class=&#x27;ovr&#x27;, random_state=0,\n",
              "                   solver=&#x27;liblinear&#x27;)</pre></div></div></div></div></div>"
            ]
          },
          "metadata": {},
          "execution_count": 204
        }
      ]
    },
    {
      "cell_type": "markdown",
      "source": [
        "## Paso 4: Evaluar el Modelo"
      ],
      "metadata": {
        "id": "b3FBV2K5lH1B"
      }
    },
    {
      "cell_type": "code",
      "source": [
        "x_test = scaler.transform(x_test)"
      ],
      "metadata": {
        "id": "U-s5tvvolL1n"
      },
      "execution_count": null,
      "outputs": []
    },
    {
      "cell_type": "code",
      "source": [
        "y_pred = model.predict(x_test)"
      ],
      "metadata": {
        "id": "BV9FmbGblpER"
      },
      "execution_count": null,
      "outputs": []
    },
    {
      "cell_type": "code",
      "source": [
        "print(y_pred)"
      ],
      "metadata": {
        "colab": {
          "base_uri": "https://localhost:8080/"
        },
        "id": "BMpuGW62luMd",
        "outputId": "8f7fd553-50e7-48fa-afc6-c80d895164cd"
      },
      "execution_count": null,
      "outputs": [
        {
          "output_type": "stream",
          "name": "stdout",
          "text": [
            "[2 8 2 6 6 7 1 9 8 5 2 8 6 6 6 6 1 0 5 8 8 7 8 4 7 5 4 9 2 9 4 7 6 8 9 4 3\n",
            " 1 0 1 8 6 7 7 9 0 7 6 2 1 9 6 7 9 0 0 5 1 6 3 0 2 3 4 1 9 2 6 9 1 8 3 5 1\n",
            " 2 1 2 2 9 7 2 3 6 0 5 3 7 5 1 2 9 9 3 1 7 7 4 8 5 8 5 5 2 5 9 0 7 1 4 7 3\n",
            " 4 8 9 7 7 8 0 1 5 2 5 3 4 1 7 0 6 1 5 9 9 9 5 9 9 5 7 5 6 2 8 6 7 6 1 5 1\n",
            " 5 9 9 1 5 3 6 1 8 9 7 7 6 7 6 5 6 0 8 8 9 3 6 1 0 4 1 6 3 8 6 7 4 9 6 3 0\n",
            " 3 3 3 0 7 7 5 7 8 0 7 8 9 6 4 5 0 1 4 6 4 3 3 0 9 5 9 2 1 4 2 1 6 8 9 2 4\n",
            " 9 3 7 6 2 3 3 1 6 9 3 6 3 2 2 0 7 6 1 1 3 7 2 7 8 5 5 7 5 3 2 7 2 7 5 5 7\n",
            " 0 9 1 6 5 9 7 4 3 8 0 3 6 4 6 3 1 6 8 8 8 4 6 7 5 2 4 5 3 2 4 6 9 4 5 4 3\n",
            " 4 6 2 9 0 6 7 2 0 9 6 0 4 2 0 7 5 8 5 7 8 2 8 4 3 7 2 6 8 1 5 1 0 8 2 8 9\n",
            " 5 6 2 2 7 2 1 5 1 6 4 5 0 9 4 1 1 7 0 8 9 0 5 4 3 8 8]\n"
          ]
        }
      ]
    },
    {
      "cell_type": "code",
      "source": [
        "print(model.score(x_train, y_train))\n",
        "\n",
        "print(model.score(x_test, y_test))"
      ],
      "metadata": {
        "colab": {
          "base_uri": "https://localhost:8080/"
        },
        "id": "akPhI8Gpm_UX",
        "outputId": "99c04442-d559-4016-b827-4ece3abaae86"
      },
      "execution_count": null,
      "outputs": [
        {
          "output_type": "stream",
          "name": "stdout",
          "text": [
            "0.964509394572025\n",
            "0.9416666666666667\n"
          ]
        }
      ]
    },
    {
      "cell_type": "code",
      "source": [
        "confusion_matrix(y_test, y_pred)"
      ],
      "metadata": {
        "colab": {
          "base_uri": "https://localhost:8080/"
        },
        "id": "fy7mkzbmnIBL",
        "outputId": "f090fe90-9e9d-442c-81b6-a45e0dff60a9"
      },
      "execution_count": null,
      "outputs": [
        {
          "output_type": "execute_result",
          "data": {
            "text/plain": [
              "array([[27,  0,  0,  0,  0,  0,  0,  0,  0,  0],\n",
              "       [ 0, 32,  0,  0,  0,  0,  1,  0,  1,  1],\n",
              "       [ 1,  1, 33,  1,  0,  0,  0,  0,  0,  0],\n",
              "       [ 0,  0,  1, 28,  0,  0,  0,  0,  0,  0],\n",
              "       [ 0,  0,  0,  0, 29,  0,  0,  1,  0,  0],\n",
              "       [ 0,  0,  0,  0,  0, 39,  0,  0,  0,  1],\n",
              "       [ 0,  1,  0,  0,  0,  0, 43,  0,  0,  0],\n",
              "       [ 0,  0,  0,  0,  0,  0,  0, 39,  0,  0],\n",
              "       [ 0,  2,  1,  2,  0,  0,  0,  1, 33,  0],\n",
              "       [ 0,  0,  0,  1,  0,  1,  0,  2,  1, 36]])"
            ]
          },
          "metadata": {},
          "execution_count": 209
        }
      ]
    },
    {
      "cell_type": "code",
      "source": [
        "cm = confusion_matrix(y_test, y_pred)"
      ],
      "metadata": {
        "id": "7PyIclDEnUr1"
      },
      "execution_count": null,
      "outputs": []
    },
    {
      "cell_type": "code",
      "source": [
        "fig, ax = plt.subplots(figsize=(8, 8))\n",
        "ax.imshow(cm)\n",
        "ax.grid(False)\n",
        "ax.set_xlabel('Salidas predecidas', color='black')\n",
        "ax.set_ylabel('Salidas actuales', color='black')\n",
        "ax.xaxis.set(ticks=range(10))\n",
        "ax.yaxis.set(ticks=range(10))\n",
        "ax.set_ylim(9.5, -0.5)\n",
        "for i in range(10):\n",
        "  for j in range(10):\n",
        "    ax.text(j, i, cm[i, j], ha='center',\n",
        "            va='center', color='white')\n",
        "plt.show()"
      ],
      "metadata": {
        "colab": {
          "base_uri": "https://localhost:8080/",
          "height": 696
        },
        "id": "IQ94XiKlpXrk",
        "outputId": "c969632e-cd19-43d0-998c-b0dbcce0dadd"
      },
      "execution_count": null,
      "outputs": [
        {
          "output_type": "display_data",
          "data": {
            "text/plain": [
              "<Figure size 800x800 with 1 Axes>"
            ],
            "image/png": "[encoded data removed]"
          },
          "metadata": {}
        }
      ]
    },
    {
      "cell_type": "code",
      "source": [
        "print(classification_report(y_test, y_pred))"
      ],
      "metadata": {
        "colab": {
          "base_uri": "https://localhost:8080/"
        },
        "id": "aPAxgjAjstqS",
        "outputId": "503f7a37-7c55-4870-a095-f3e390b64baa"
      },
      "execution_count": null,
      "outputs": [
        {
          "output_type": "stream",
          "name": "stdout",
          "text": [
            "              precision    recall  f1-score   support\n",
            "\n",
            "           0       0.96      1.00      0.98        27\n",
            "           1       0.89      0.91      0.90        35\n",
            "           2       0.94      0.92      0.93        36\n",
            "           3       0.88      0.97      0.92        29\n",
            "           4       1.00      0.97      0.98        30\n",
            "           5       0.97      0.97      0.97        40\n",
            "           6       0.98      0.98      0.98        44\n",
            "           7       0.91      1.00      0.95        39\n",
            "           8       0.94      0.85      0.89        39\n",
            "           9       0.95      0.88      0.91        41\n",
            "\n",
            "    accuracy                           0.94       360\n",
            "   macro avg       0.94      0.94      0.94       360\n",
            "weighted avg       0.94      0.94      0.94       360\n",
            "\n"
          ]
        }
      ]
    }
  ]
}